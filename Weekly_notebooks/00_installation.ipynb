{
 "cells": [
  {
   "cell_type": "markdown",
   "id": "f2694980",
   "metadata": {},
   "source": [
    "**Disclaimer**<br> This installation is only designed for the course and not recommended for daily use.<br>It is **not** (practically) possible to install libraries on a virtual environment for Jupyter - everything is installed directly on your home directory.<br><br>\n",
    "\n",
    "**Why do you need a separate notebook for installation?**<br>\n",
    "When you open a notebook you are in the end submitting a job, so you cannot install packages for the loaded and use them \"on the fly\" in the same interactive session.<br>\n",
    "Once this is installed, you may close installation notebook, and when you open another notebook with the same module, installed libraries should work."
   ]
  },
  {
   "cell_type": "code",
   "execution_count": null,
   "id": "af1510ca-0225-4950-990b-b174ce5e9869",
   "metadata": {},
   "outputs": [],
   "source": [
    "! pip3 install --upgrade pip"
   ]
  },
  {
   "cell_type": "code",
   "execution_count": null,
   "id": "99a35459-5d9e-416c-9580-eb0305f5ea06",
   "metadata": {},
   "outputs": [],
   "source": [
    "! pip3 install -r requirements.txt"
   ]
  }
 ],
 "metadata": {
  "kernelspec": {
   "display_name": "Python 3",
   "language": "python",
   "name": "python3"
  },
  "language_info": {
   "codemirror_mode": {
    "name": "ipython",
    "version": 3
   },
   "file_extension": ".py",
   "mimetype": "text/x-python",
   "name": "python",
   "nbconvert_exporter": "python",
   "pygments_lexer": "ipython3",
   "version": "3.9.13"
  }
 },
 "nbformat": 4,
 "nbformat_minor": 5
}
